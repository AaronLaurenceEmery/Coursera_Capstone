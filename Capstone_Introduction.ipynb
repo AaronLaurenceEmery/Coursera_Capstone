{
    "cells": [
        {
            "cell_type": "markdown",
            "metadata": {
                "collapsed": true
            },
            "source": "# Capstone Project - Car Accident Severity\n## Coursera - Applied Data Science Capstone"
        },
        {
            "cell_type": "markdown",
            "metadata": {},
            "source": "### Introduction: Business Problem\n\nIn this project, we will formulate a model to predict the likelihood that an automobile accident will result in injury or only personal property damage.  \n  \nThere are a number of possible factors relating to accident severity, so we will explore which factors have the greatest impact, not just in number of accidents, but in overall severity.  We will explore correlation between factors to determine which factors will be most useful in our predictive model.  \n  \nWe will break the data into training and test sets in order to generate a predictive model to determine the likelihood of an accident, as well as the likelihood of injury in the event of an accident\n\nAdditionally, we can use these results to identify potential problem areas within the city to determine if we can take steps to mitigate injury and property damage risks"
        }
    ],
    "metadata": {
        "kernelspec": {
            "display_name": "Python 3.6",
            "language": "python",
            "name": "python3"
        },
        "language_info": {
            "codemirror_mode": {
                "name": "ipython",
                "version": 3
            },
            "file_extension": ".py",
            "mimetype": "text/x-python",
            "name": "python",
            "nbconvert_exporter": "python",
            "pygments_lexer": "ipython3",
            "version": "3.6.9"
        }
    },
    "nbformat": 4,
    "nbformat_minor": 1
}